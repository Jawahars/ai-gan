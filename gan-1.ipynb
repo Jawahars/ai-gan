{
  "cells": [
    {
      "cell_type": "markdown",
      "metadata": {
        "id": "view-in-github",
        "colab_type": "text"
      },
      "source": [
        "<a href=\"https://colab.research.google.com/github/Jawahars/ai-gan/blob/main/gan-1.ipynb\" target=\"_parent\"><img src=\"https://colab.research.google.com/assets/colab-badge.svg\" alt=\"Open In Colab\"/></a>"
      ]
    },
    {
      "cell_type": "markdown",
      "metadata": {
        "id": "bHt601pMcXrz"
      },
      "source": [
        "### **GAN.ipynb Documentation**\n",
        "\n",
        "This notebook provides a complete implementation of a Generative Adversarial Network (GAN) trained on the MNIST dataset. It includes all necessary steps from data loading to model evaluation.\n",
        "\n",
        "**Deliverables Covered:**\n",
        "1.  **Code for vanilla GAN**: `Generator` and `Discriminator` classes are implemented.\n",
        "2.  **Loss Logging**: Generator & discriminator losses are logged per epoch.\n",
        "3.  **Sample Generation**: Generated samples are saved every 5 epochs and at the end of training.\n",
        "4.  **Loss Plots**: Loss curves are plotted after training.\n",
        "5.  **IS and FID Scores**: Code is included to generate images and run the evaluation command."
      ]
    },
    {
      "cell_type": "markdown",
      "metadata": {
        "id": "hpdqHXG-cXr0"
      },
      "source": [
        "#### **Cell 1: Imports**\n",
        "Import all the necessary libraries for the project."
      ]
    },
    {
      "cell_type": "code",
      "execution_count": 1,
      "metadata": {
        "id": "vjU8wiyZcXr0"
      },
      "outputs": [],
      "source": [
        "import torch\n",
        "import torch.nn as nn\n",
        "import torch.optim as optim\n",
        "import torchvision\n",
        "import torchvision.transforms as transforms\n",
        "from torch.utils.data import DataLoader\n",
        "import matplotlib.pyplot as plt\n",
        "import os\n",
        "from torchvision.utils import save_image"
      ]
    },
    {
      "cell_type": "markdown",
      "metadata": {
        "id": "0K2PfXu3cXr1"
      },
      "source": [
        "#### **Cell 2: Device and Hyperparameters**\n",
        "This cell sets up the device (GPU or CPU) and defines the key hyperparameters for the model and training process."
      ]
    },
    {
      "cell_type": "code",
      "execution_count": 2,
      "metadata": {
        "id": "mJqQvAIzcXr1"
      },
      "outputs": [],
      "source": [
        "device = torch.device(\"cuda\" if torch.cuda.is_available() else \"cpu\")\n",
        "\n",
        "# Hyperparameters\n",
        "latent_dim = 100\n",
        "image_size = 28 * 28\n",
        "batch_size = 128\n",
        "learning_rate = 0.0002\n",
        "num_epochs = 50"
      ]
    },
    {
      "cell_type": "markdown",
      "metadata": {
        "id": "U9XYO9cGcXr1"
      },
      "source": [
        "#### **Cell 3: Data Loading and Preprocessing**\n",
        "Here, we load the MNIST dataset. Images are converted to tensors and normalized to the range [-1, 1] to match the generator's output activation (`tanh`)."
      ]
    },
    {
      "cell_type": "code",
      "execution_count": 3,
      "metadata": {
        "id": "GsZFx6KjcXr1",
        "outputId": "7c8c0ed9-c2df-4820-c4a1-4afc10deae88",
        "colab": {
          "base_uri": "https://localhost:8080/"
        }
      },
      "outputs": [
        {
          "output_type": "stream",
          "name": "stderr",
          "text": [
            "100%|██████████| 9.91M/9.91M [00:00<00:00, 17.5MB/s]\n",
            "100%|██████████| 28.9k/28.9k [00:00<00:00, 479kB/s]\n",
            "100%|██████████| 1.65M/1.65M [00:00<00:00, 3.77MB/s]\n",
            "100%|██████████| 4.54k/4.54k [00:00<00:00, 6.14MB/s]\n"
          ]
        }
      ],
      "source": [
        "# Image processing and dataset loading\n",
        "transform = transforms.Compose([\n",
        "    transforms.ToTensor(),\n",
        "    transforms.Normalize((0.5,), (0.5,))\n",
        "])\n",
        "\n",
        "train_dataset = torchvision.datasets.MNIST(root='./data', train=True, transform=transform, download=True)\n",
        "train_loader = DataLoader(dataset=train_dataset, batch_size=batch_size, shuffle=True)"
      ]
    },
    {
      "cell_type": "markdown",
      "metadata": {
        "id": "46nHKUNDcXr1"
      },
      "source": [
        "#### **Cell 4: Discriminator Network**\n",
        "The Discriminator is a standard feedforward neural network that classifies images as real or fake. It outputs a single probability value."
      ]
    },
    {
      "cell_type": "code",
      "execution_count": 4,
      "metadata": {
        "id": "MgKmsaascXr2"
      },
      "outputs": [],
      "source": [
        "class Discriminator(nn.Module):\n",
        "    def __init__(self):\n",
        "        super(Discriminator, self).__init__()\n",
        "        self.model = nn.Sequential(\n",
        "            nn.Linear(image_size, 512),\n",
        "            nn.LeakyReLU(0.2),\n",
        "            nn.Linear(512, 256),\n",
        "            nn.LeakyReLU(0.2),\n",
        "            nn.Linear(256, 1),\n",
        "            nn.Sigmoid()\n",
        "        )\n",
        "\n",
        "    def forward(self, x):\n",
        "        return self.model(x)"
      ]
    },
    {
      "cell_type": "markdown",
      "metadata": {
        "id": "kxluI9uncXr2"
      },
      "source": [
        "#### **Cell 5: Generator Network**\n",
        "The Generator takes a random noise vector from the latent space and transforms it into a flattened image."
      ]
    },
    {
      "cell_type": "code",
      "execution_count": 5,
      "metadata": {
        "id": "BsFBUQCIcXr2"
      },
      "outputs": [],
      "source": [
        "class Generator(nn.Module):\n",
        "    def __init__(self):\n",
        "        super(Generator, self).__init__()\n",
        "        self.model = nn.Sequential(\n",
        "            nn.Linear(latent_dim, 256),\n",
        "            nn.LeakyReLU(0.2),\n",
        "            nn.Linear(256, 512),\n",
        "            nn.LeakyReLU(0.2),\n",
        "            nn.Linear(512, image_size),\n",
        "            nn.Tanh()\n",
        "        )\n",
        "\n",
        "    def forward(self, x):\n",
        "        return self.model(x)"
      ]
    },
    {
      "cell_type": "markdown",
      "metadata": {
        "id": "U4l89zCScXr2"
      },
      "source": [
        "#### **Cell 6: Model Initialization, Loss, and Optimizers**\n",
        "We initialize the models, move them to the configured device, and set up the Binary Cross-Entropy loss function and Adam optimizers."
      ]
    },
    {
      "cell_type": "code",
      "execution_count": 6,
      "metadata": {
        "id": "km2igBTrcXr2"
      },
      "outputs": [],
      "source": [
        "# Initialize models\n",
        "discriminator = Discriminator().to(device)\n",
        "generator = Generator().to(device)\n",
        "\n",
        "# Loss and optimizers\n",
        "criterion = nn.BCELoss()\n",
        "d_optimizer = optim.Adam(discriminator.parameters(), lr=learning_rate)\n",
        "g_optimizer = optim.Adam(generator.parameters(), lr=learning_rate)"
      ]
    },
    {
      "cell_type": "markdown",
      "metadata": {
        "id": "1k2yDvbccXr2"
      },
      "source": [
        "#### **Cell 7: Training Loop with Logging**\n",
        "This is the main training loop. It includes logic to:\n",
        "1.  Calculate and store the average loss for both the generator and discriminator at the end of each epoch.\n",
        "2.  Save a grid of generated image samples every 5 epochs to a directory named `gan_samples`."
      ]
    },
    {
      "cell_type": "code",
      "execution_count": null,
      "metadata": {
        "id": "6fwOC2BCcXr2",
        "outputId": "d6d0a4e0-6619-4c0d-bae9-cca0c4846486",
        "colab": {
          "base_uri": "https://localhost:8080/"
        }
      },
      "outputs": [
        {
          "output_type": "stream",
          "name": "stdout",
          "text": [
            "Starting Training...\n",
            "Epoch [1/50], Discriminator Loss: 0.4547, Generator Loss: 3.4025\n",
            "Epoch [2/50], Discriminator Loss: 0.4281, Generator Loss: 3.6405\n",
            "Epoch [3/50], Discriminator Loss: 1.0160, Generator Loss: 2.9232\n",
            "Epoch [4/50], Discriminator Loss: 1.0953, Generator Loss: 2.5737\n",
            "Epoch [5/50], Discriminator Loss: 1.3304, Generator Loss: 2.0038\n",
            "Epoch [6/50], Discriminator Loss: 1.0974, Generator Loss: 1.8625\n",
            "Epoch [7/50], Discriminator Loss: 0.8979, Generator Loss: 1.9266\n",
            "Epoch [8/50], Discriminator Loss: 0.5899, Generator Loss: 2.3349\n",
            "Epoch [9/50], Discriminator Loss: 0.3826, Generator Loss: 2.8498\n"
          ]
        }
      ],
      "source": [
        "# Lists to store loss history for plotting\n",
        "d_losses = []\n",
        "g_losses = []\n",
        "\n",
        "# Create a directory to save samples\n",
        "os.makedirs('gan_samples', exist_ok=True)\n",
        "\n",
        "print(\"Starting Training...\")\n",
        "for epoch in range(num_epochs):\n",
        "    epoch_d_loss = 0.0\n",
        "    epoch_g_loss = 0.0\n",
        "    for i, (images, _) in enumerate(train_loader):\n",
        "        # Prepare real and fake labels\n",
        "        real_labels = torch.ones(images.size(0), 1).to(device)\n",
        "        fake_labels = torch.zeros(images.size(0), 1).to(device)\n",
        "\n",
        "        # Reshape images for the linear layers\n",
        "        images = images.reshape(-1, image_size).to(device)\n",
        "\n",
        "        # --- Train Discriminator ---\n",
        "        d_optimizer.zero_grad()\n",
        "\n",
        "        # Loss on real images\n",
        "        d_real_outputs = discriminator(images)\n",
        "        d_loss_real = criterion(d_real_outputs, real_labels)\n",
        "\n",
        "        # Loss on fake images\n",
        "        z = torch.randn(images.size(0), latent_dim).to(device)\n",
        "        fake_images = generator(z)\n",
        "        d_fake_outputs = discriminator(fake_images.detach())\n",
        "        d_loss_fake = criterion(d_fake_outputs, fake_labels)\n",
        "\n",
        "        # Total discriminator loss and backpropagation\n",
        "        d_loss = d_loss_real + d_loss_fake\n",
        "        d_loss.backward()\n",
        "        d_optimizer.step()\n",
        "\n",
        "        # --- Train Generator ---\n",
        "        g_optimizer.zero_grad()\n",
        "        # We need to run the fake images through the discriminator again\n",
        "        g_outputs = discriminator(fake_images)\n",
        "        g_loss = criterion(g_outputs, real_labels) # Generator wants discriminator to think these are real\n",
        "        g_loss.backward()\n",
        "        g_optimizer.step()\n",
        "\n",
        "        # Accumulate losses for the epoch\n",
        "        epoch_d_loss += d_loss.item()\n",
        "        epoch_g_loss += g_loss.item()\n",
        "\n",
        "    # --- End of Epoch Logging ---\n",
        "    avg_d_loss = epoch_d_loss / len(train_loader)\n",
        "    avg_g_loss = epoch_g_loss / len(train_loader)\n",
        "    d_losses.append(avg_d_loss)\n",
        "    g_losses.append(avg_g_loss)\n",
        "\n",
        "    print(f'Epoch [{epoch+1}/{num_epochs}], Discriminator Loss: {avg_d_loss:.4f}, Generator Loss: {avg_g_loss:.4f}')\n",
        "\n",
        "    # Save generated samples every 5 epochs\n",
        "    if (epoch + 1) % 5 == 0:\n",
        "        with torch.no_grad():\n",
        "            z_sample = torch.randn(64, latent_dim).to(device)\n",
        "            sample_images = generator(z_sample).view(-1, 1, 28, 28)\n",
        "            save_image(sample_images, f'gan_samples/samples_epoch_{epoch+1}.png', normalize=True)\n",
        "\n",
        "print(\"Training finished.\")\n",
        "\n",
        "# Save the trained generator model\n",
        "torch.save(generator.state_dict(), 'generator_final.pth')"
      ]
    },
    {
      "cell_type": "markdown",
      "metadata": {
        "id": "ShRT8YptcXr3"
      },
      "source": [
        "#### **Deliverable 1: Final Trained Generator Samples**\n",
        "This cell generates and saves the final batch of images from the fully trained generator."
      ]
    },
    {
      "cell_type": "code",
      "execution_count": null,
      "metadata": {
        "id": "Jv2gFYaLcXr3"
      },
      "outputs": [],
      "source": [
        "# Generate and save final samples\n",
        "with torch.no_grad():\n",
        "    z_final = torch.randn(64, latent_dim).to(device)\n",
        "    final_images = generator(z_final).view(-1, 1, 28, 28)\n",
        "    save_image(final_images, 'final_gan_samples.png', normalize=True)\n",
        "\n",
        "    # Display the final grid\n",
        "    print(\"Displaying final generated samples...\")\n",
        "    grid = torchvision.utils.make_grid(final_images, nrow=8, normalize=True)\n",
        "    plt.figure(figsize=(8,8))\n",
        "    plt.imshow(grid.permute(1, 2, 0).cpu())\n",
        "    plt.title('Final Generated Samples')\n",
        "    plt.axis('off')\n",
        "    plt.show()"
      ]
    },
    {
      "cell_type": "markdown",
      "metadata": {
        "id": "yrgLVY_4cXr3"
      },
      "source": [
        "#### **Deliverable 2: Loss Plots**\n",
        "This cell plots the saved generator and discriminator losses to visualize their behavior over the training epochs."
      ]
    },
    {
      "cell_type": "code",
      "execution_count": null,
      "metadata": {
        "id": "8ok5PMZ4cXr3"
      },
      "outputs": [],
      "source": [
        "# Plot the loss curves\n",
        "print(\"Plotting loss curves...\")\n",
        "plt.figure(figsize=(10,5))\n",
        "plt.title(\"Generator and Discriminator Loss During Training\")\n",
        "plt.plot(g_losses, label=\"Generator Loss (G)\")\n",
        "plt.plot(d_losses, label=\"Discriminator Loss (D)\")\n",
        "plt.xlabel(\"Epochs\")\n",
        "plt.ylabel(\"Loss\")\n",
        "plt.legend()\n",
        "plt.savefig('loss_curves.png')\n",
        "plt.show()"
      ]
    },
    {
      "cell_type": "markdown",
      "metadata": {
        "id": "fYBpeROFcXr3"
      },
      "source": [
        "#### **Deliverable 3: IS and FID Scores**\n",
        "To calculate the Inception Score (IS) and Fréchet Inception Distance (FID), we first need to generate a large number of samples. Then, we can use a library like `torch-fidelity` to compare them against the real dataset."
      ]
    },
    {
      "cell_type": "code",
      "execution_count": null,
      "metadata": {
        "id": "IP7AidN5cXr3"
      },
      "outputs": [],
      "source": [
        "# First, ensure the evaluation library is installed\n",
        "!pip install torch-fidelity\n",
        "\n",
        "# --- Generate a large number of images for evaluation ---\n",
        "eval_dir = 'eval_images'\n",
        "os.makedirs(eval_dir, exist_ok=True)\n",
        "\n",
        "num_eval_images = 10000 # Standard number for FID/IS\n",
        "eval_batch_size = 100\n",
        "\n",
        "print(f\"Generating {num_eval_images} images for evaluation...\")\n",
        "generator.eval() # Set generator to evaluation mode\n",
        "with torch.no_grad():\n",
        "    for i in range(0, num_eval_images, eval_batch_size):\n",
        "        z = torch.randn(eval_batch_size, latent_dim).to(device)\n",
        "        generated_images = generator(z).view(-1, 1, 28, 28)\n",
        "\n",
        "        for j in range(generated_images.size(0)):\n",
        "            save_image(generated_images[j, :, :, :], os.path.join(eval_dir, f'img_{i+j}.png'), normalize=True)\n",
        "\n",
        "print(\"Images generated successfully.\")"
      ]
    },
    {
      "cell_type": "markdown",
      "metadata": {
        "id": "GIbqmSovcXr3"
      },
      "source": [
        "#### **Final Step: Command for Metric Calculation**\n",
        "\n",
        "**Important:** The following command should be run in your **terminal/shell** from the same directory as your notebook. It uses `torch-fidelity` to calculate the metrics. The `--input2 mnist-train` argument tells the library to automatically use the PyTorch MNIST training set as the real data for comparison.\n",
        "\n",
        "You can also run it from a notebook cell by prefixing it with `!`, as shown below."
      ]
    },
    {
      "cell_type": "code",
      "execution_count": null,
      "metadata": {
        "id": "hmwbFhgxcXr3"
      },
      "outputs": [],
      "source": [
        "!torch-fidelity --gpu 0 --fid --isc --input1 eval_images --input2 mnist-train"
      ]
    }
  ],
  "metadata": {
    "kernelspec": {
      "display_name": "Python 3",
      "name": "python3"
    },
    "language_info": {
      "codemirror_mode": {
        "name": "ipython",
        "version": 3
      },
      "file_extension": ".py",
      "mimetype": "text/x-python",
      "name": "python",
      "nbconvert_exporter": "python",
      "pygments_lexer": "ipython3",
      "version": "3.8.8"
    },
    "colab": {
      "provenance": [],
      "gpuType": "T4",
      "include_colab_link": true
    },
    "accelerator": "GPU"
  },
  "nbformat": 4,
  "nbformat_minor": 0
}